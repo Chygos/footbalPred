{
 "cells": [
  {
   "cell_type": "markdown",
   "metadata": {},
   "source": [
    "<p><strong>Objective:</strong> To build a model that can classify the total number of goals scored in a soccer match, given publicly available data</p>\n",
    "<p><strong>Performance criteria:</strong> F1 score</p>"
   ]
  },
  {
   "cell_type": "code",
   "execution_count": 1,
   "metadata": {},
   "outputs": [],
   "source": [
    "path = r\"C:\\Machine_learning_datafiles\\footballPrediction\""
   ]
  },
  {
   "cell_type": "code",
   "execution_count": 2,
   "metadata": {},
   "outputs": [],
   "source": [
    "import os, gc, warnings\n",
    "warnings.filterwarnings('ignore')"
   ]
  },
  {
   "cell_type": "code",
   "execution_count": 3,
   "metadata": {},
   "outputs": [],
   "source": [
    "os.chdir(path)"
   ]
  },
  {
   "cell_type": "code",
   "execution_count": 4,
   "metadata": {},
   "outputs": [
    {
     "data": {
      "text/plain": [
       "'C:\\\\Machine_learning_datafiles\\\\footballPrediction'"
      ]
     },
     "execution_count": 4,
     "metadata": {},
     "output_type": "execute_result"
    }
   ],
   "source": [
    "os.getcwd()"
   ]
  },
  {
   "cell_type": "code",
   "execution_count": 5,
   "metadata": {},
   "outputs": [],
   "source": [
    "import pandas as pd\n",
    "import numpy as np\n",
    "import matplotlib.pyplot as plt\n",
    "import seaborn as sns\n",
    "import scipy.stats as stats\n",
    "import pickle"
   ]
  },
  {
   "cell_type": "code",
   "execution_count": 50,
   "metadata": {},
   "outputs": [],
   "source": [
    "from sklearn.model_selection import train_test_split, StratifiedKFold\n",
    "from sklearn.preprocessing import LabelEncoder\n",
    "from sklearn.impute import KNNImputer\n",
    "import lightgbm as lgb\n",
    "import catboost as cat\n",
    "from sklearn.metrics import f1_score, plot_roc_curve, plot_confusion_matrix, classification_report"
   ]
  },
  {
   "cell_type": "code",
   "execution_count": 7,
   "metadata": {},
   "outputs": [],
   "source": [
    "%matplotlib inline\n",
    "pd.set_option('display.max_columns', None)"
   ]
  },
  {
   "cell_type": "code",
   "execution_count": 8,
   "metadata": {},
   "outputs": [
    {
     "name": "stdout",
     "output_type": "stream",
     "text": [
      "test_cleaned.pkl\n",
      "train_cleaned.pkl\n",
      "valid_cleaned.pkl\n"
     ]
    }
   ],
   "source": [
    "!ls *'_cleaned.pkl'"
   ]
  },
  {
   "cell_type": "code",
   "execution_count": 9,
   "metadata": {},
   "outputs": [],
   "source": [
    "train = pd.read_pickle('train_cleaned.pkl', compression='gzip')\n",
    "valid = pd.read_pickle('valid_cleaned.pkl', compression='gzip')\n",
    "test = pd.read_pickle('test_cleaned.pkl', compression='gzip')"
   ]
  },
  {
   "cell_type": "code",
   "execution_count": 10,
   "metadata": {},
   "outputs": [
    {
     "data": {
      "text/html": [
       "<div>\n",
       "<style scoped>\n",
       "    .dataframe tbody tr th:only-of-type {\n",
       "        vertical-align: middle;\n",
       "    }\n",
       "\n",
       "    .dataframe tbody tr th {\n",
       "        vertical-align: top;\n",
       "    }\n",
       "\n",
       "    .dataframe thead th {\n",
       "        text-align: right;\n",
       "    }\n",
       "</style>\n",
       "<table border=\"1\" class=\"dataframe\">\n",
       "  <thead>\n",
       "    <tr style=\"text-align: right;\">\n",
       "      <th></th>\n",
       "      <th>teams_home_team_id</th>\n",
       "      <th>teams_away_team_id</th>\n",
       "      <th>fixture_venue</th>\n",
       "      <th>league_id</th>\n",
       "      <th>league_name</th>\n",
       "      <th>league_country</th>\n",
       "      <th>league_season</th>\n",
       "      <th>league_round</th>\n",
       "      <th>home_team_country</th>\n",
       "      <th>away_team_country</th>\n",
       "      <th>match_winner</th>\n",
       "      <th>under_over</th>\n",
       "      <th>goals_home</th>\n",
       "      <th>goals_away</th>\n",
       "      <th>winning_percent_home</th>\n",
       "      <th>winning_percent_draws</th>\n",
       "      <th>winning_percent_away</th>\n",
       "      <th>comparison_forme_home</th>\n",
       "      <th>comparison_forme_away</th>\n",
       "      <th>comparison_att_home</th>\n",
       "      <th>comparison_att_away</th>\n",
       "      <th>comparison_def_home</th>\n",
       "      <th>comparison_def_away</th>\n",
       "      <th>comparison_fish_law_home</th>\n",
       "      <th>comparison_fish_law_away</th>\n",
       "      <th>comparison_h2h_home</th>\n",
       "      <th>comparison_h2h_away</th>\n",
       "      <th>comparison_goals_h2h_home</th>\n",
       "      <th>comparison_goals_h2h_away</th>\n",
       "      <th>teams_home_last_5_matches_forme</th>\n",
       "      <th>teams_home_last_5_matches_att</th>\n",
       "      <th>teams_home_last_5_matches_def</th>\n",
       "      <th>teams_away_last_5_matches_forme</th>\n",
       "      <th>teams_away_last_5_matches_att</th>\n",
       "      <th>teams_away_last_5_matches_def</th>\n",
       "      <th>teams_home_last_5_matches_goals</th>\n",
       "      <th>teams_home_last_5_matches_goals_avg</th>\n",
       "      <th>teams_home_last_5_matches_goals_against</th>\n",
       "      <th>teams_home_last_5_matches_goals_against_avg</th>\n",
       "      <th>teams_home_all_last_matches_matchs_matchsPlayed_home</th>\n",
       "      <th>teams_home_all_last_matches_matchs_matchsPlayed_away</th>\n",
       "      <th>teams_home_all_last_matches_matchs_wins_home</th>\n",
       "      <th>teams_home_all_last_matches_matchs_wins_away</th>\n",
       "      <th>teams_home_all_last_matches_matchs_draws_home</th>\n",
       "      <th>teams_home_all_last_matches_matchs_draws_away</th>\n",
       "      <th>teams_home_all_last_matches_matchs_loses_home</th>\n",
       "      <th>teams_home_all_last_matches_matchs_loses_away</th>\n",
       "      <th>teams_home_all_last_matches_goals_goalsFor_home</th>\n",
       "      <th>teams_home_all_last_matches_goals_goalsFor_away</th>\n",
       "      <th>teams_home_all_last_matches_goals_goalsAgainst_home</th>\n",
       "      <th>teams_home_all_last_matches_goals_goalsAgainst_away</th>\n",
       "      <th>teams_home_all_last_matches_goalsAvg_goalsFor_home</th>\n",
       "      <th>teams_home_all_last_matches_goalsAvg_goalsFor_away</th>\n",
       "      <th>teams_home_all_last_matches_goalsAvg_goalsAgainst_home</th>\n",
       "      <th>teams_home_all_last_matches_goalsAvg_goalsAgainst_away</th>\n",
       "      <th>teams_home_last_h2h_played_home</th>\n",
       "      <th>teams_home_last_h2h_played_away</th>\n",
       "      <th>teams_home_last_h2h_wins_home</th>\n",
       "      <th>teams_home_last_h2h_wins_away</th>\n",
       "      <th>teams_home_last_h2h_draws_home</th>\n",
       "      <th>teams_home_last_h2h_draws_away</th>\n",
       "      <th>teams_home_last_h2h_loses_home</th>\n",
       "      <th>teams_home_last_h2h_loses_away</th>\n",
       "      <th>teams_away_last_5_matches_goals</th>\n",
       "      <th>teams_away_last_5_matches_goals_avg</th>\n",
       "      <th>teams_away_last_5_matches_goals_against</th>\n",
       "      <th>teams_away_last_5_matches_goals_against_avg</th>\n",
       "      <th>teams_away_all_last_matches_matchs_matchsPlayed_home</th>\n",
       "      <th>teams_away_all_last_matches_matchs_matchsPlayed_away</th>\n",
       "      <th>teams_away_all_last_matches_matchs_wins_home</th>\n",
       "      <th>teams_away_all_last_matches_matchs_wins_away</th>\n",
       "      <th>teams_away_all_last_matches_matchs_draws_home</th>\n",
       "      <th>teams_away_all_last_matches_matchs_draws_away</th>\n",
       "      <th>teams_away_all_last_matches_matchs_loses_home</th>\n",
       "      <th>teams_away_all_last_matches_matchs_loses_away</th>\n",
       "      <th>teams_away_all_last_matches_goals_goalsFor_home</th>\n",
       "      <th>teams_away_all_last_matches_goals_goalsFor_away</th>\n",
       "      <th>teams_away_all_last_matches_goals_goalsAgainst_home</th>\n",
       "      <th>teams_away_all_last_matches_goals_goalsAgainst_away</th>\n",
       "      <th>teams_away_all_last_matches_goalsAvg_goalsFor_home</th>\n",
       "      <th>teams_away_all_last_matches_goalsAvg_goalsFor_away</th>\n",
       "      <th>teams_away_all_last_matches_goalsAvg_goalsAgainst_home</th>\n",
       "      <th>teams_away_all_last_matches_goalsAvg_goalsAgainst_away</th>\n",
       "      <th>teams_away_last_h2h_played_home</th>\n",
       "      <th>teams_away_last_h2h_played_away</th>\n",
       "      <th>teams_away_last_h2h_wins_home</th>\n",
       "      <th>teams_away_last_h2h_wins_away</th>\n",
       "      <th>teams_away_last_h2h_draws_home</th>\n",
       "      <th>teams_away_last_h2h_draws_away</th>\n",
       "      <th>teams_away_last_h2h_loses_home</th>\n",
       "      <th>teams_away_last_h2h_loses_away</th>\n",
       "      <th>outcome</th>\n",
       "      <th>fixture_year</th>\n",
       "      <th>fixture_week</th>\n",
       "      <th>fixture_day</th>\n",
       "      <th>fixture_month</th>\n",
       "      <th>fixture_weekday</th>\n",
       "      <th>venue_status</th>\n",
       "      <th>weather_season</th>\n",
       "    </tr>\n",
       "  </thead>\n",
       "  <tbody>\n",
       "    <tr>\n",
       "      <th>0</th>\n",
       "      <td>3396</td>\n",
       "      <td>3400</td>\n",
       "      <td>Tsirion Athltiko Kentro</td>\n",
       "      <td>2658</td>\n",
       "      <td>1. Division</td>\n",
       "      <td>Cyprus</td>\n",
       "      <td>2020</td>\n",
       "      <td>Regular Season - 9</td>\n",
       "      <td>Cyprus</td>\n",
       "      <td>Cyprus</td>\n",
       "      <td>1 N</td>\n",
       "      <td>NaN</td>\n",
       "      <td>-2.5</td>\n",
       "      <td>-1.5</td>\n",
       "      <td>45</td>\n",
       "      <td>45</td>\n",
       "      <td>10</td>\n",
       "      <td>56</td>\n",
       "      <td>44</td>\n",
       "      <td>83</td>\n",
       "      <td>17</td>\n",
       "      <td>27</td>\n",
       "      <td>73</td>\n",
       "      <td>61</td>\n",
       "      <td>39</td>\n",
       "      <td>100</td>\n",
       "      <td>0</td>\n",
       "      <td>73</td>\n",
       "      <td>27</td>\n",
       "      <td>60</td>\n",
       "      <td>100.0</td>\n",
       "      <td>11.0</td>\n",
       "      <td>47</td>\n",
       "      <td>22.0</td>\n",
       "      <td>67.0</td>\n",
       "      <td>10</td>\n",
       "      <td>2.0</td>\n",
       "      <td>8</td>\n",
       "      <td>1.6</td>\n",
       "      <td>3</td>\n",
       "      <td>5</td>\n",
       "      <td>3</td>\n",
       "      <td>2</td>\n",
       "      <td>0</td>\n",
       "      <td>0</td>\n",
       "      <td>0</td>\n",
       "      <td>3</td>\n",
       "      <td>9</td>\n",
       "      <td>5</td>\n",
       "      <td>3</td>\n",
       "      <td>8</td>\n",
       "      <td>3.0</td>\n",
       "      <td>1.0</td>\n",
       "      <td>1.0</td>\n",
       "      <td>1.6</td>\n",
       "      <td>2</td>\n",
       "      <td>2</td>\n",
       "      <td>2</td>\n",
       "      <td>2</td>\n",
       "      <td>0</td>\n",
       "      <td>0</td>\n",
       "      <td>0</td>\n",
       "      <td>0</td>\n",
       "      <td>2</td>\n",
       "      <td>0.4</td>\n",
       "      <td>3</td>\n",
       "      <td>0.6</td>\n",
       "      <td>4</td>\n",
       "      <td>4</td>\n",
       "      <td>0</td>\n",
       "      <td>3</td>\n",
       "      <td>1</td>\n",
       "      <td>0</td>\n",
       "      <td>3</td>\n",
       "      <td>1</td>\n",
       "      <td>0</td>\n",
       "      <td>5</td>\n",
       "      <td>9</td>\n",
       "      <td>3</td>\n",
       "      <td>0.0</td>\n",
       "      <td>1.3</td>\n",
       "      <td>2.3</td>\n",
       "      <td>0.8</td>\n",
       "      <td>2</td>\n",
       "      <td>2</td>\n",
       "      <td>0</td>\n",
       "      <td>0</td>\n",
       "      <td>0</td>\n",
       "      <td>0</td>\n",
       "      <td>2</td>\n",
       "      <td>2</td>\n",
       "      <td>Over</td>\n",
       "      <td>2020</td>\n",
       "      <td>44</td>\n",
       "      <td>6</td>\n",
       "      <td>10</td>\n",
       "      <td>5</td>\n",
       "      <td>Home</td>\n",
       "      <td>fall</td>\n",
       "    </tr>\n",
       "    <tr>\n",
       "      <th>1</th>\n",
       "      <td>2788</td>\n",
       "      <td>2777</td>\n",
       "      <td>UMT Stadium Ubon Ratchathani</td>\n",
       "      <td>390</td>\n",
       "      <td>Thai Premier League</td>\n",
       "      <td>Thailand</td>\n",
       "      <td>2017</td>\n",
       "      <td>Regular Season - 34</td>\n",
       "      <td>Thailand</td>\n",
       "      <td>Thailand</td>\n",
       "      <td>1 N</td>\n",
       "      <td>1.5</td>\n",
       "      <td>-2.5</td>\n",
       "      <td>-2.5</td>\n",
       "      <td>45</td>\n",
       "      <td>45</td>\n",
       "      <td>10</td>\n",
       "      <td>100</td>\n",
       "      <td>0</td>\n",
       "      <td>50</td>\n",
       "      <td>50</td>\n",
       "      <td>73</td>\n",
       "      <td>27</td>\n",
       "      <td>0</td>\n",
       "      <td>0</td>\n",
       "      <td>50</td>\n",
       "      <td>50</td>\n",
       "      <td>67</td>\n",
       "      <td>33</td>\n",
       "      <td>47</td>\n",
       "      <td>50.0</td>\n",
       "      <td>50.0</td>\n",
       "      <td>0</td>\n",
       "      <td>50.0</td>\n",
       "      <td>0.0</td>\n",
       "      <td>8</td>\n",
       "      <td>1.6</td>\n",
       "      <td>8</td>\n",
       "      <td>1.6</td>\n",
       "      <td>16</td>\n",
       "      <td>17</td>\n",
       "      <td>6</td>\n",
       "      <td>5</td>\n",
       "      <td>7</td>\n",
       "      <td>4</td>\n",
       "      <td>3</td>\n",
       "      <td>8</td>\n",
       "      <td>29</td>\n",
       "      <td>24</td>\n",
       "      <td>24</td>\n",
       "      <td>29</td>\n",
       "      <td>1.8</td>\n",
       "      <td>1.4</td>\n",
       "      <td>1.5</td>\n",
       "      <td>1.7</td>\n",
       "      <td>2</td>\n",
       "      <td>3</td>\n",
       "      <td>1</td>\n",
       "      <td>1</td>\n",
       "      <td>0</td>\n",
       "      <td>0</td>\n",
       "      <td>1</td>\n",
       "      <td>2</td>\n",
       "      <td>8</td>\n",
       "      <td>1.6</td>\n",
       "      <td>22</td>\n",
       "      <td>4.4</td>\n",
       "      <td>17</td>\n",
       "      <td>16</td>\n",
       "      <td>4</td>\n",
       "      <td>2</td>\n",
       "      <td>5</td>\n",
       "      <td>0</td>\n",
       "      <td>8</td>\n",
       "      <td>14</td>\n",
       "      <td>26</td>\n",
       "      <td>16</td>\n",
       "      <td>41</td>\n",
       "      <td>47</td>\n",
       "      <td>1.5</td>\n",
       "      <td>1.0</td>\n",
       "      <td>2.4</td>\n",
       "      <td>2.9</td>\n",
       "      <td>3</td>\n",
       "      <td>2</td>\n",
       "      <td>2</td>\n",
       "      <td>1</td>\n",
       "      <td>0</td>\n",
       "      <td>0</td>\n",
       "      <td>1</td>\n",
       "      <td>1</td>\n",
       "      <td>Over</td>\n",
       "      <td>2017</td>\n",
       "      <td>46</td>\n",
       "      <td>6</td>\n",
       "      <td>11</td>\n",
       "      <td>5</td>\n",
       "      <td>Neutral</td>\n",
       "      <td>fall</td>\n",
       "    </tr>\n",
       "    <tr>\n",
       "      <th>2</th>\n",
       "      <td>8268</td>\n",
       "      <td>8265</td>\n",
       "      <td>LeithArena</td>\n",
       "      <td>1087</td>\n",
       "      <td>Landesliga - Burgenland</td>\n",
       "      <td>Austria</td>\n",
       "      <td>2019</td>\n",
       "      <td>Burgenland - 18</td>\n",
       "      <td>Austria</td>\n",
       "      <td>Austria</td>\n",
       "      <td>1 N</td>\n",
       "      <td>NaN</td>\n",
       "      <td>-2.5</td>\n",
       "      <td>-1.5</td>\n",
       "      <td>45</td>\n",
       "      <td>45</td>\n",
       "      <td>10</td>\n",
       "      <td>80</td>\n",
       "      <td>20</td>\n",
       "      <td>67</td>\n",
       "      <td>33</td>\n",
       "      <td>79</td>\n",
       "      <td>21</td>\n",
       "      <td>0</td>\n",
       "      <td>0</td>\n",
       "      <td>50</td>\n",
       "      <td>50</td>\n",
       "      <td>50</td>\n",
       "      <td>50</td>\n",
       "      <td>53</td>\n",
       "      <td>47.0</td>\n",
       "      <td>82.0</td>\n",
       "      <td>13</td>\n",
       "      <td>24.0</td>\n",
       "      <td>35.0</td>\n",
       "      <td>8</td>\n",
       "      <td>1.6</td>\n",
       "      <td>3</td>\n",
       "      <td>0.6</td>\n",
       "      <td>8</td>\n",
       "      <td>9</td>\n",
       "      <td>6</td>\n",
       "      <td>3</td>\n",
       "      <td>1</td>\n",
       "      <td>2</td>\n",
       "      <td>1</td>\n",
       "      <td>4</td>\n",
       "      <td>22</td>\n",
       "      <td>19</td>\n",
       "      <td>9</td>\n",
       "      <td>17</td>\n",
       "      <td>2.8</td>\n",
       "      <td>2.1</td>\n",
       "      <td>1.1</td>\n",
       "      <td>1.9</td>\n",
       "      <td>0</td>\n",
       "      <td>1</td>\n",
       "      <td>0</td>\n",
       "      <td>0</td>\n",
       "      <td>0</td>\n",
       "      <td>1</td>\n",
       "      <td>0</td>\n",
       "      <td>0</td>\n",
       "      <td>4</td>\n",
       "      <td>0.8</td>\n",
       "      <td>11</td>\n",
       "      <td>2.2</td>\n",
       "      <td>9</td>\n",
       "      <td>8</td>\n",
       "      <td>3</td>\n",
       "      <td>1</td>\n",
       "      <td>3</td>\n",
       "      <td>2</td>\n",
       "      <td>3</td>\n",
       "      <td>5</td>\n",
       "      <td>19</td>\n",
       "      <td>10</td>\n",
       "      <td>16</td>\n",
       "      <td>19</td>\n",
       "      <td>2.1</td>\n",
       "      <td>1.3</td>\n",
       "      <td>1.8</td>\n",
       "      <td>2.4</td>\n",
       "      <td>1</td>\n",
       "      <td>0</td>\n",
       "      <td>0</td>\n",
       "      <td>0</td>\n",
       "      <td>1</td>\n",
       "      <td>0</td>\n",
       "      <td>0</td>\n",
       "      <td>0</td>\n",
       "      <td>Under</td>\n",
       "      <td>2020</td>\n",
       "      <td>11</td>\n",
       "      <td>5</td>\n",
       "      <td>3</td>\n",
       "      <td>4</td>\n",
       "      <td>Home</td>\n",
       "      <td>spring</td>\n",
       "    </tr>\n",
       "    <tr>\n",
       "      <th>3</th>\n",
       "      <td>4327</td>\n",
       "      <td>4320</td>\n",
       "      <td>Nippatsu Mitsuzawa Stadium Yokohama</td>\n",
       "      <td>602</td>\n",
       "      <td>J. League Div.3</td>\n",
       "      <td>Japan</td>\n",
       "      <td>2018</td>\n",
       "      <td>Regular Season - 4</td>\n",
       "      <td>Japan</td>\n",
       "      <td>Japan</td>\n",
       "      <td>1</td>\n",
       "      <td>2.5</td>\n",
       "      <td>-5.5</td>\n",
       "      <td>-2.5</td>\n",
       "      <td>45</td>\n",
       "      <td>45</td>\n",
       "      <td>10</td>\n",
       "      <td>40</td>\n",
       "      <td>60</td>\n",
       "      <td>54</td>\n",
       "      <td>46</td>\n",
       "      <td>54</td>\n",
       "      <td>46</td>\n",
       "      <td>84</td>\n",
       "      <td>16</td>\n",
       "      <td>64</td>\n",
       "      <td>36</td>\n",
       "      <td>58</td>\n",
       "      <td>42</td>\n",
       "      <td>44</td>\n",
       "      <td>54.0</td>\n",
       "      <td>54.0</td>\n",
       "      <td>67</td>\n",
       "      <td>46.0</td>\n",
       "      <td>46.0</td>\n",
       "      <td>7</td>\n",
       "      <td>2.3</td>\n",
       "      <td>6</td>\n",
       "      <td>2.0</td>\n",
       "      <td>2</td>\n",
       "      <td>1</td>\n",
       "      <td>1</td>\n",
       "      <td>0</td>\n",
       "      <td>1</td>\n",
       "      <td>0</td>\n",
       "      <td>0</td>\n",
       "      <td>1</td>\n",
       "      <td>5</td>\n",
       "      <td>2</td>\n",
       "      <td>3</td>\n",
       "      <td>3</td>\n",
       "      <td>2.5</td>\n",
       "      <td>2.0</td>\n",
       "      <td>1.5</td>\n",
       "      <td>3.0</td>\n",
       "      <td>5</td>\n",
       "      <td>4</td>\n",
       "      <td>1</td>\n",
       "      <td>2</td>\n",
       "      <td>2</td>\n",
       "      <td>1</td>\n",
       "      <td>2</td>\n",
       "      <td>1</td>\n",
       "      <td>6</td>\n",
       "      <td>2.0</td>\n",
       "      <td>7</td>\n",
       "      <td>2.3</td>\n",
       "      <td>2</td>\n",
       "      <td>1</td>\n",
       "      <td>2</td>\n",
       "      <td>0</td>\n",
       "      <td>0</td>\n",
       "      <td>0</td>\n",
       "      <td>0</td>\n",
       "      <td>1</td>\n",
       "      <td>5</td>\n",
       "      <td>1</td>\n",
       "      <td>3</td>\n",
       "      <td>4</td>\n",
       "      <td>2.5</td>\n",
       "      <td>1.0</td>\n",
       "      <td>1.5</td>\n",
       "      <td>4.0</td>\n",
       "      <td>4</td>\n",
       "      <td>5</td>\n",
       "      <td>1</td>\n",
       "      <td>2</td>\n",
       "      <td>1</td>\n",
       "      <td>2</td>\n",
       "      <td>2</td>\n",
       "      <td>1</td>\n",
       "      <td>Under</td>\n",
       "      <td>2018</td>\n",
       "      <td>12</td>\n",
       "      <td>7</td>\n",
       "      <td>3</td>\n",
       "      <td>6</td>\n",
       "      <td>Home</td>\n",
       "      <td>spring</td>\n",
       "    </tr>\n",
       "  </tbody>\n",
       "</table>\n",
       "</div>"
      ],
      "text/plain": [
       "   teams_home_team_id  teams_away_team_id  \\\n",
       "0                3396                3400   \n",
       "1                2788                2777   \n",
       "2                8268                8265   \n",
       "3                4327                4320   \n",
       "\n",
       "                         fixture_venue  league_id              league_name  \\\n",
       "0              Tsirion Athltiko Kentro       2658              1. Division   \n",
       "1         UMT Stadium Ubon Ratchathani        390      Thai Premier League   \n",
       "2                           LeithArena       1087  Landesliga - Burgenland   \n",
       "3  Nippatsu Mitsuzawa Stadium Yokohama        602          J. League Div.3   \n",
       "\n",
       "  league_country  league_season         league_round home_team_country  \\\n",
       "0         Cyprus           2020   Regular Season - 9            Cyprus   \n",
       "1       Thailand           2017  Regular Season - 34          Thailand   \n",
       "2        Austria           2019      Burgenland - 18           Austria   \n",
       "3          Japan           2018   Regular Season - 4             Japan   \n",
       "\n",
       "  away_team_country match_winner  under_over  goals_home  goals_away  \\\n",
       "0            Cyprus          1 N         NaN        -2.5        -1.5   \n",
       "1          Thailand          1 N         1.5        -2.5        -2.5   \n",
       "2           Austria          1 N         NaN        -2.5        -1.5   \n",
       "3             Japan            1         2.5        -5.5        -2.5   \n",
       "\n",
       "   winning_percent_home  winning_percent_draws  winning_percent_away  \\\n",
       "0                    45                     45                    10   \n",
       "1                    45                     45                    10   \n",
       "2                    45                     45                    10   \n",
       "3                    45                     45                    10   \n",
       "\n",
       "   comparison_forme_home  comparison_forme_away  comparison_att_home  \\\n",
       "0                     56                     44                   83   \n",
       "1                    100                      0                   50   \n",
       "2                     80                     20                   67   \n",
       "3                     40                     60                   54   \n",
       "\n",
       "   comparison_att_away  comparison_def_home  comparison_def_away  \\\n",
       "0                   17                   27                   73   \n",
       "1                   50                   73                   27   \n",
       "2                   33                   79                   21   \n",
       "3                   46                   54                   46   \n",
       "\n",
       "   comparison_fish_law_home  comparison_fish_law_away  comparison_h2h_home  \\\n",
       "0                        61                        39                  100   \n",
       "1                         0                         0                   50   \n",
       "2                         0                         0                   50   \n",
       "3                        84                        16                   64   \n",
       "\n",
       "   comparison_h2h_away  comparison_goals_h2h_home  comparison_goals_h2h_away  \\\n",
       "0                    0                         73                         27   \n",
       "1                   50                         67                         33   \n",
       "2                   50                         50                         50   \n",
       "3                   36                         58                         42   \n",
       "\n",
       "   teams_home_last_5_matches_forme  teams_home_last_5_matches_att  \\\n",
       "0                               60                          100.0   \n",
       "1                               47                           50.0   \n",
       "2                               53                           47.0   \n",
       "3                               44                           54.0   \n",
       "\n",
       "   teams_home_last_5_matches_def  teams_away_last_5_matches_forme  \\\n",
       "0                           11.0                               47   \n",
       "1                           50.0                                0   \n",
       "2                           82.0                               13   \n",
       "3                           54.0                               67   \n",
       "\n",
       "   teams_away_last_5_matches_att  teams_away_last_5_matches_def  \\\n",
       "0                           22.0                           67.0   \n",
       "1                           50.0                            0.0   \n",
       "2                           24.0                           35.0   \n",
       "3                           46.0                           46.0   \n",
       "\n",
       "   teams_home_last_5_matches_goals  teams_home_last_5_matches_goals_avg  \\\n",
       "0                               10                                  2.0   \n",
       "1                                8                                  1.6   \n",
       "2                                8                                  1.6   \n",
       "3                                7                                  2.3   \n",
       "\n",
       "   teams_home_last_5_matches_goals_against  \\\n",
       "0                                        8   \n",
       "1                                        8   \n",
       "2                                        3   \n",
       "3                                        6   \n",
       "\n",
       "   teams_home_last_5_matches_goals_against_avg  \\\n",
       "0                                          1.6   \n",
       "1                                          1.6   \n",
       "2                                          0.6   \n",
       "3                                          2.0   \n",
       "\n",
       "   teams_home_all_last_matches_matchs_matchsPlayed_home  \\\n",
       "0                                                  3      \n",
       "1                                                 16      \n",
       "2                                                  8      \n",
       "3                                                  2      \n",
       "\n",
       "   teams_home_all_last_matches_matchs_matchsPlayed_away  \\\n",
       "0                                                  5      \n",
       "1                                                 17      \n",
       "2                                                  9      \n",
       "3                                                  1      \n",
       "\n",
       "   teams_home_all_last_matches_matchs_wins_home  \\\n",
       "0                                             3   \n",
       "1                                             6   \n",
       "2                                             6   \n",
       "3                                             1   \n",
       "\n",
       "   teams_home_all_last_matches_matchs_wins_away  \\\n",
       "0                                             2   \n",
       "1                                             5   \n",
       "2                                             3   \n",
       "3                                             0   \n",
       "\n",
       "   teams_home_all_last_matches_matchs_draws_home  \\\n",
       "0                                              0   \n",
       "1                                              7   \n",
       "2                                              1   \n",
       "3                                              1   \n",
       "\n",
       "   teams_home_all_last_matches_matchs_draws_away  \\\n",
       "0                                              0   \n",
       "1                                              4   \n",
       "2                                              2   \n",
       "3                                              0   \n",
       "\n",
       "   teams_home_all_last_matches_matchs_loses_home  \\\n",
       "0                                              0   \n",
       "1                                              3   \n",
       "2                                              1   \n",
       "3                                              0   \n",
       "\n",
       "   teams_home_all_last_matches_matchs_loses_away  \\\n",
       "0                                              3   \n",
       "1                                              8   \n",
       "2                                              4   \n",
       "3                                              1   \n",
       "\n",
       "   teams_home_all_last_matches_goals_goalsFor_home  \\\n",
       "0                                                9   \n",
       "1                                               29   \n",
       "2                                               22   \n",
       "3                                                5   \n",
       "\n",
       "   teams_home_all_last_matches_goals_goalsFor_away  \\\n",
       "0                                                5   \n",
       "1                                               24   \n",
       "2                                               19   \n",
       "3                                                2   \n",
       "\n",
       "   teams_home_all_last_matches_goals_goalsAgainst_home  \\\n",
       "0                                                  3     \n",
       "1                                                 24     \n",
       "2                                                  9     \n",
       "3                                                  3     \n",
       "\n",
       "   teams_home_all_last_matches_goals_goalsAgainst_away  \\\n",
       "0                                                  8     \n",
       "1                                                 29     \n",
       "2                                                 17     \n",
       "3                                                  3     \n",
       "\n",
       "   teams_home_all_last_matches_goalsAvg_goalsFor_home  \\\n",
       "0                                                3.0    \n",
       "1                                                1.8    \n",
       "2                                                2.8    \n",
       "3                                                2.5    \n",
       "\n",
       "   teams_home_all_last_matches_goalsAvg_goalsFor_away  \\\n",
       "0                                                1.0    \n",
       "1                                                1.4    \n",
       "2                                                2.1    \n",
       "3                                                2.0    \n",
       "\n",
       "   teams_home_all_last_matches_goalsAvg_goalsAgainst_home  \\\n",
       "0                                                1.0        \n",
       "1                                                1.5        \n",
       "2                                                1.1        \n",
       "3                                                1.5        \n",
       "\n",
       "   teams_home_all_last_matches_goalsAvg_goalsAgainst_away  \\\n",
       "0                                                1.6        \n",
       "1                                                1.7        \n",
       "2                                                1.9        \n",
       "3                                                3.0        \n",
       "\n",
       "   teams_home_last_h2h_played_home  teams_home_last_h2h_played_away  \\\n",
       "0                                2                                2   \n",
       "1                                2                                3   \n",
       "2                                0                                1   \n",
       "3                                5                                4   \n",
       "\n",
       "   teams_home_last_h2h_wins_home  teams_home_last_h2h_wins_away  \\\n",
       "0                              2                              2   \n",
       "1                              1                              1   \n",
       "2                              0                              0   \n",
       "3                              1                              2   \n",
       "\n",
       "   teams_home_last_h2h_draws_home  teams_home_last_h2h_draws_away  \\\n",
       "0                               0                               0   \n",
       "1                               0                               0   \n",
       "2                               0                               1   \n",
       "3                               2                               1   \n",
       "\n",
       "   teams_home_last_h2h_loses_home  teams_home_last_h2h_loses_away  \\\n",
       "0                               0                               0   \n",
       "1                               1                               2   \n",
       "2                               0                               0   \n",
       "3                               2                               1   \n",
       "\n",
       "   teams_away_last_5_matches_goals  teams_away_last_5_matches_goals_avg  \\\n",
       "0                                2                                  0.4   \n",
       "1                                8                                  1.6   \n",
       "2                                4                                  0.8   \n",
       "3                                6                                  2.0   \n",
       "\n",
       "   teams_away_last_5_matches_goals_against  \\\n",
       "0                                        3   \n",
       "1                                       22   \n",
       "2                                       11   \n",
       "3                                        7   \n",
       "\n",
       "   teams_away_last_5_matches_goals_against_avg  \\\n",
       "0                                          0.6   \n",
       "1                                          4.4   \n",
       "2                                          2.2   \n",
       "3                                          2.3   \n",
       "\n",
       "   teams_away_all_last_matches_matchs_matchsPlayed_home  \\\n",
       "0                                                  4      \n",
       "1                                                 17      \n",
       "2                                                  9      \n",
       "3                                                  2      \n",
       "\n",
       "   teams_away_all_last_matches_matchs_matchsPlayed_away  \\\n",
       "0                                                  4      \n",
       "1                                                 16      \n",
       "2                                                  8      \n",
       "3                                                  1      \n",
       "\n",
       "   teams_away_all_last_matches_matchs_wins_home  \\\n",
       "0                                             0   \n",
       "1                                             4   \n",
       "2                                             3   \n",
       "3                                             2   \n",
       "\n",
       "   teams_away_all_last_matches_matchs_wins_away  \\\n",
       "0                                             3   \n",
       "1                                             2   \n",
       "2                                             1   \n",
       "3                                             0   \n",
       "\n",
       "   teams_away_all_last_matches_matchs_draws_home  \\\n",
       "0                                              1   \n",
       "1                                              5   \n",
       "2                                              3   \n",
       "3                                              0   \n",
       "\n",
       "   teams_away_all_last_matches_matchs_draws_away  \\\n",
       "0                                              0   \n",
       "1                                              0   \n",
       "2                                              2   \n",
       "3                                              0   \n",
       "\n",
       "   teams_away_all_last_matches_matchs_loses_home  \\\n",
       "0                                              3   \n",
       "1                                              8   \n",
       "2                                              3   \n",
       "3                                              0   \n",
       "\n",
       "   teams_away_all_last_matches_matchs_loses_away  \\\n",
       "0                                              1   \n",
       "1                                             14   \n",
       "2                                              5   \n",
       "3                                              1   \n",
       "\n",
       "   teams_away_all_last_matches_goals_goalsFor_home  \\\n",
       "0                                                0   \n",
       "1                                               26   \n",
       "2                                               19   \n",
       "3                                                5   \n",
       "\n",
       "   teams_away_all_last_matches_goals_goalsFor_away  \\\n",
       "0                                                5   \n",
       "1                                               16   \n",
       "2                                               10   \n",
       "3                                                1   \n",
       "\n",
       "   teams_away_all_last_matches_goals_goalsAgainst_home  \\\n",
       "0                                                  9     \n",
       "1                                                 41     \n",
       "2                                                 16     \n",
       "3                                                  3     \n",
       "\n",
       "   teams_away_all_last_matches_goals_goalsAgainst_away  \\\n",
       "0                                                  3     \n",
       "1                                                 47     \n",
       "2                                                 19     \n",
       "3                                                  4     \n",
       "\n",
       "   teams_away_all_last_matches_goalsAvg_goalsFor_home  \\\n",
       "0                                                0.0    \n",
       "1                                                1.5    \n",
       "2                                                2.1    \n",
       "3                                                2.5    \n",
       "\n",
       "   teams_away_all_last_matches_goalsAvg_goalsFor_away  \\\n",
       "0                                                1.3    \n",
       "1                                                1.0    \n",
       "2                                                1.3    \n",
       "3                                                1.0    \n",
       "\n",
       "   teams_away_all_last_matches_goalsAvg_goalsAgainst_home  \\\n",
       "0                                                2.3        \n",
       "1                                                2.4        \n",
       "2                                                1.8        \n",
       "3                                                1.5        \n",
       "\n",
       "   teams_away_all_last_matches_goalsAvg_goalsAgainst_away  \\\n",
       "0                                                0.8        \n",
       "1                                                2.9        \n",
       "2                                                2.4        \n",
       "3                                                4.0        \n",
       "\n",
       "   teams_away_last_h2h_played_home  teams_away_last_h2h_played_away  \\\n",
       "0                                2                                2   \n",
       "1                                3                                2   \n",
       "2                                1                                0   \n",
       "3                                4                                5   \n",
       "\n",
       "   teams_away_last_h2h_wins_home  teams_away_last_h2h_wins_away  \\\n",
       "0                              0                              0   \n",
       "1                              2                              1   \n",
       "2                              0                              0   \n",
       "3                              1                              2   \n",
       "\n",
       "   teams_away_last_h2h_draws_home  teams_away_last_h2h_draws_away  \\\n",
       "0                               0                               0   \n",
       "1                               0                               0   \n",
       "2                               1                               0   \n",
       "3                               1                               2   \n",
       "\n",
       "   teams_away_last_h2h_loses_home  teams_away_last_h2h_loses_away outcome  \\\n",
       "0                               2                               2    Over   \n",
       "1                               1                               1    Over   \n",
       "2                               0                               0   Under   \n",
       "3                               2                               1   Under   \n",
       "\n",
       "   fixture_year  fixture_week  fixture_day  fixture_month  fixture_weekday  \\\n",
       "0          2020            44            6             10                5   \n",
       "1          2017            46            6             11                5   \n",
       "2          2020            11            5              3                4   \n",
       "3          2018            12            7              3                6   \n",
       "\n",
       "  venue_status weather_season  \n",
       "0         Home           fall  \n",
       "1      Neutral           fall  \n",
       "2         Home         spring  \n",
       "3         Home         spring  "
      ]
     },
     "execution_count": 10,
     "metadata": {},
     "output_type": "execute_result"
    }
   ],
   "source": [
    "train.head(4)"
   ]
  },
  {
   "cell_type": "code",
   "execution_count": 11,
   "metadata": {},
   "outputs": [
    {
     "data": {
      "image/png": "[encoded data removed]",
      "text/plain": [
       "<Figure size 432x288 with 1 Axes>"
      ]
     },
     "metadata": {
      "needs_background": "light"
     },
     "output_type": "display_data"
    }
   ],
   "source": [
    "ax = sns.countplot(train.outcome)\n",
    "for i in ax.patches:\n",
    "    val = round(i.get_height()/train.shape[0], 2)\n",
    "    plt.text(i.get_x()+0.25, i.get_height() + 500, str(val))\n",
    "plt.title('Target Distribution');"
   ]
  },
  {
   "cell_type": "markdown",
   "metadata": {},
   "source": [
    "<b>The outcome distribution isn't highly imbalanced</b>"
   ]
  },
  {
   "cell_type": "code",
   "execution_count": 12,
   "metadata": {},
   "outputs": [],
   "source": [
    "for data_df in [train, test, valid]:\n",
    "    # league Regular season, Groupstage etc\n",
    "    data_df['league_type'] = data_df.league_round.str.split(' -').str[0].str.strip()\n",
    "    \n",
    "    # checks if match is a domestic match or not\n",
    "    data_df['match_type'] = ((train.home_team_country == train.league_country) & \\\n",
    "    (train.away_team_country == train.league_country)) * 1"
   ]
  },
  {
   "cell_type": "code",
   "execution_count": 13,
   "metadata": {},
   "outputs": [
    {
     "data": {
      "text/plain": [
       "array(['under_over', 'goals_home', 'goals_away', 'fixture_venue',\n",
       "       'match_winner', 'away_team_country', 'home_team_country',\n",
       "       'teams_home_last_5_matches_att', 'teams_home_last_5_matches_def',\n",
       "       'teams_away_last_5_matches_def', 'teams_away_last_5_matches_att'],\n",
       "      dtype=object)"
      ]
     },
     "execution_count": 13,
     "metadata": {},
     "output_type": "execute_result"
    }
   ],
   "source": [
    "missing = pd.DataFrame(train.isna().sum()/len(train) * 100)\n",
    "missing.columns = ['Percentage']\n",
    "missing[missing.Percentage > 0].sort_values(by='Percentage', ascending=False).index.values"
   ]
  },
  {
   "cell_type": "markdown",
   "metadata": {},
   "source": [
    "Most of Under_over are missing. There's a little likelihood if it will be an important feature, since 71% are missing."
   ]
  },
  {
   "cell_type": "markdown",
   "metadata": {},
   "source": [
    "<b>Filling Missing values</b>"
   ]
  },
  {
   "cell_type": "code",
   "execution_count": 14,
   "metadata": {},
   "outputs": [],
   "source": [
    "def fillMissing(train, test, valid):\n",
    "    # filling categorical features\n",
    "    cat_col = train.select_dtypes('object').columns.drop('outcome')\n",
    "    train[cat_col] = train[cat_col].fillna('Unk')\n",
    "    test[cat_col] = test[cat_col].fillna('Unk')\n",
    "    valid[cat_col] = test[cat_col].fillna('Unk')\n",
    "    \n",
    "    le = LabelEncoder()\n",
    "    for col in cat_col:\n",
    "        train[col] = le.fit_transform(train[col])\n",
    "        valid[col] = valid[col].apply(lambda x: 'unk' if x not in le.classes_ else x)\n",
    "        test[col] = test[col].apply(lambda x: 'unk' if x not in le.classes_ else x)\n",
    "        \n",
    "        le_classes = le.classes_.tolist()\n",
    "        le_classes.insert(len(le_classes), 'unk')\n",
    "        le.classes_ = le_classes\n",
    "        \n",
    "        valid[col] = le.transform(valid[col])\n",
    "        test[col] = le.transform(test[col])\n",
    "    \n",
    "    return train, valid, test"
   ]
  },
  {
   "cell_type": "code",
   "execution_count": 15,
   "metadata": {},
   "outputs": [
    {
     "name": "stdout",
     "output_type": "stream",
     "text": [
      "Wall time: 44.9 s\n"
     ]
    }
   ],
   "source": [
    "%%time\n",
    "train, valid, test = fillMissing(train, test, valid)"
   ]
  },
  {
   "cell_type": "markdown",
   "metadata": {},
   "source": [
    "<strong>I will replace numerical features with their median values. I would have used KNNImputer but the computational requirements is too much.</strong>"
   ]
  },
  {
   "cell_type": "code",
   "execution_count": 16,
   "metadata": {},
   "outputs": [],
   "source": [
    "missing_cols = ['goals_away', 'goals_home', 'teams_home_last_5_matches_att', 'teams_home_last_5_matches_def',\n",
    "                'teams_away_last_5_matches_att', 'teams_away_last_5_matches_def']\n",
    "median = train[missing_cols].median()"
   ]
  },
  {
   "cell_type": "code",
   "execution_count": 17,
   "metadata": {},
   "outputs": [],
   "source": [
    "train[missing_cols] = train[missing_cols].fillna(median)\n",
    "valid[missing_cols] = valid[missing_cols].fillna(median)\n",
    "test[missing_cols] = test[missing_cols].fillna(median)"
   ]
  },
  {
   "cell_type": "code",
   "execution_count": 18,
   "metadata": {},
   "outputs": [],
   "source": [
    "train.outcome = train.outcome.map({'Under' : 1, 'Over' : 0})\n",
    "valid.outcome = valid.outcome.map({'Under' : 1, 'Over' : 0})"
   ]
  },
  {
   "cell_type": "code",
   "execution_count": 19,
   "metadata": {},
   "outputs": [],
   "source": [
    "for col in ['fixture_year', 'fixture_week', 'fixture_day']:\n",
    "    train[col] = train[col].astype('int32')\n",
    "    valid[col] = valid[col].astype('int32')\n",
    "    test[col] = test[col].astype('int32')"
   ]
  },
  {
   "cell_type": "code",
   "execution_count": 20,
   "metadata": {},
   "outputs": [],
   "source": [
    "xtrain, ytrain = train.drop('outcome', axis=1), train.outcome\n",
    "xvalid, yvalid = valid.drop('outcome', axis=1), valid.outcome"
   ]
  },
  {
   "cell_type": "code",
   "execution_count": 21,
   "metadata": {},
   "outputs": [],
   "source": [
    "seed = 42"
   ]
  },
  {
   "cell_type": "code",
   "execution_count": 22,
   "metadata": {},
   "outputs": [],
   "source": [
    "lgb_params = {\n",
    "    'metrics' : 'auc',\n",
    "    'objective' : 'binary',\n",
    "    'min_child_samples' : 5,\n",
    "    'max_depth' : 8,\n",
    "    'num_leaves' : 64,\n",
    "    'min_child_weight' : 5,\n",
    "    'importance_type' : 'gain',\n",
    "    'subsample' : 0.8,\n",
    "    'colsample_bytree' : 0.3,\n",
    "    'boosting_type' : 'gbdt',\n",
    "    'learning_rate' : 0.01,\n",
    "    'reg_lambda' : 0.8,\n",
    "    'random_state' : seed,\n",
    "    'n_estimators' : 800,\n",
    "}"
   ]
  },
  {
   "cell_type": "code",
   "execution_count": 34,
   "metadata": {},
   "outputs": [],
   "source": [
    "cat_params = {\n",
    "    'eval_metric' : 'AUC',\n",
    "    'bootstrap_type' : 'Bernoulli',\n",
    "    'n_estimators' : 800,\n",
    "    'od_type' : 'Iter',\n",
    "    'max_depth' : 7,\n",
    "    'l2_leaf_reg' : 0.8,\n",
    "    'learning_rate' : 0.01,\n",
    "    'loss_function' : 'Logloss',\n",
    "    'random_state' : seed,\n",
    "    'subsample' : 0.7,\n",
    "    'rsm' : 0.3,\n",
    "    'silent' : True\n",
    "}"
   ]
  },
  {
   "cell_type": "code",
   "execution_count": 24,
   "metadata": {},
   "outputs": [],
   "source": [
    "def buildModel(classifier):\n",
    "    classifier.fit(xtrain, ytrain, early_stopping_rounds=100,\n",
    "                   eval_set=[(xtrain, ytrain), (xvalid, yvalid)], \n",
    "                   verbose=False)\n",
    "    f1_tr = metrics(classifier, xtrain, ytrain)\n",
    "    f1_val = metrics(classifier, xvalid, yvalid)\n",
    "    print(f'Train F1: {f1_tr.round(4)}, Valid F1: {f1_val.round(4)}')\n",
    "    return classifier"
   ]
  },
  {
   "cell_type": "code",
   "execution_count": 25,
   "metadata": {},
   "outputs": [],
   "source": [
    "def metrics(clf, x, y):\n",
    "    f1 = f1_score(y, clf.predict(x), average='weighted')\n",
    "    return f1"
   ]
  },
  {
   "cell_type": "code",
   "execution_count": 26,
   "metadata": {},
   "outputs": [],
   "source": [
    "def plot_figures(clf):\n",
    "    fig, ax= plt.subplots(1,2,figsize=(12,4))\n",
    "    plot_confusion_matrix(clf, xvalid, yvalid, ax=ax[0])\n",
    "    plot_roc_curve(clf, xvalid, yvalid, ax=ax[1])"
   ]
  },
  {
   "cell_type": "code",
   "execution_count": 27,
   "metadata": {},
   "outputs": [],
   "source": [
    "def featureImportances(clf):\n",
    "    pd.Series(clf.feature_importances_, index=xvalid.columns\n",
    "             ).sort_values()[-15:].plot.barh()"
   ]
  },
  {
   "cell_type": "code",
   "execution_count": 35,
   "metadata": {},
   "outputs": [],
   "source": [
    "catm = cat.CatBoostClassifier(**cat_params)\n",
    "lgbm = lgb.LGBMClassifier(**lgb_params)"
   ]
  },
  {
   "cell_type": "code",
   "execution_count": 29,
   "metadata": {},
   "outputs": [
    {
     "name": "stdout",
     "output_type": "stream",
     "text": [
      "Train F1: 0.6714, Valid F1: 0.6373\n"
     ]
    }
   ],
   "source": [
    "buildModel(lgbm);"
   ]
  },
  {
   "cell_type": "code",
   "execution_count": 36,
   "metadata": {},
   "outputs": [
    {
     "name": "stdout",
     "output_type": "stream",
     "text": [
      "Train F1: 0.6449, Valid F1: 0.6277\n"
     ]
    }
   ],
   "source": [
    "buildModel(catm);"
   ]
  },
  {
   "cell_type": "code",
   "execution_count": 37,
   "metadata": {},
   "outputs": [
    {
     "data": {
      "text/plain": [
       "(537, 718)"
      ]
     },
     "execution_count": 37,
     "metadata": {},
     "output_type": "execute_result"
    }
   ],
   "source": [
    "lgbm.best_iteration_,  catm.best_iteration_"
   ]
  },
  {
   "cell_type": "code",
   "execution_count": 38,
   "metadata": {},
   "outputs": [
    {
     "data": {
      "image/png": "[encoded data removed]",
      "text/plain": [
       "<Figure size 864x360 with 2 Axes>"
      ]
     },
     "metadata": {
      "needs_background": "light"
     },
     "output_type": "display_data"
    }
   ],
   "source": [
    "plt.figure(figsize=(12,5))\n",
    "plt.subplot(1,2,1)\n",
    "featureImportances(catm)\n",
    "plt.title('CATBoost')\n",
    "plt.subplot(1,2,2)\n",
    "featureImportances(lgbm)\n",
    "plt.title('LGBoost')\n",
    "plt.tight_layout(pad=1.);"
   ]
  },
  {
   "cell_type": "code",
   "execution_count": 39,
   "metadata": {},
   "outputs": [
    {
     "data": {
      "image/png": "[encoded data removed]",
      "text/plain": [
       "<Figure size 864x288 with 3 Axes>"
      ]
     },
     "metadata": {
      "needs_background": "light"
     },
     "output_type": "display_data"
    }
   ],
   "source": [
    "plot_figures(lgbm)"
   ]
  },
  {
   "cell_type": "code",
   "execution_count": 40,
   "metadata": {},
   "outputs": [
    {
     "data": {
      "image/png": "[encoded data removed]",
      "text/plain": [
       "<Figure size 864x288 with 3 Axes>"
      ]
     },
     "metadata": {
      "needs_background": "light"
     },
     "output_type": "display_data"
    }
   ],
   "source": [
    "plot_figures(catm)"
   ]
  },
  {
   "cell_type": "markdown",
   "metadata": {},
   "source": [
    "### Validation Predictions"
   ]
  },
  {
   "cell_type": "code",
   "execution_count": 41,
   "metadata": {},
   "outputs": [],
   "source": [
    "cat_predv = catm.predict_proba(xvalid)[:, 1]\n",
    "lgb_predv = lgbm.predict_proba(xvalid)[:, 1]"
   ]
  },
  {
   "cell_type": "code",
   "execution_count": 42,
   "metadata": {},
   "outputs": [],
   "source": [
    "blend = np.round((lgb_predv * 0.6 + cat_predv * 0.4)).astype('int32')"
   ]
  },
  {
   "cell_type": "code",
   "execution_count": 43,
   "metadata": {},
   "outputs": [
    {
     "data": {
      "text/plain": [
       "0.6345499498641975"
      ]
     },
     "execution_count": 43,
     "metadata": {},
     "output_type": "execute_result"
    }
   ],
   "source": [
    "f1_score(yvalid, blend, average='weighted')"
   ]
  },
  {
   "cell_type": "code",
   "execution_count": 49,
   "metadata": {},
   "outputs": [
    {
     "data": {
      "text/plain": [
       "0.7060274648466408"
      ]
     },
     "execution_count": 49,
     "metadata": {},
     "output_type": "execute_result"
    }
   ],
   "source": [
    "# without weighted average\n",
    "f1_score(yvalid, blend)"
   ]
  },
  {
   "cell_type": "code",
   "execution_count": 52,
   "metadata": {},
   "outputs": [
    {
     "name": "stdout",
     "output_type": "stream",
     "text": [
      "              precision    recall  f1-score   support\n",
      "\n",
      "        Over       0.62      0.48      0.54     22050\n",
      "       Under       0.65      0.77      0.71     27950\n",
      "\n",
      "    accuracy                           0.64     50000\n",
      "   macro avg       0.64      0.63      0.62     50000\n",
      "weighted avg       0.64      0.64      0.63     50000\n",
      "\n"
     ]
    }
   ],
   "source": [
    "print(classification_report(yvalid, blend, target_names=['Over', 'Under']))"
   ]
  },
  {
   "cell_type": "markdown",
   "metadata": {},
   "source": [
    "<b>Test Predictions</b>"
   ]
  },
  {
   "cell_type": "code",
   "execution_count": 44,
   "metadata": {},
   "outputs": [],
   "source": [
    "preds = np.round((0.6*lgbm.predict(test) + 0.4*catm.predict(test))).astype('int32')"
   ]
  },
  {
   "cell_type": "code",
   "execution_count": 45,
   "metadata": {},
   "outputs": [],
   "source": [
    "pred_250 = preds[:250]\n",
    "pred_500 = preds[250:]"
   ]
  },
  {
   "cell_type": "code",
   "execution_count": 46,
   "metadata": {},
   "outputs": [
    {
     "data": {
      "text/plain": [
       "array([1, 0, 1, 1, 1, 0, 1, 1, 1, 1, 1, 1, 1, 1, 1, 0, 0, 1, 1, 0, 1, 0,\n",
       "       1, 0, 1, 1, 1, 1, 0, 1, 0, 1, 1, 1, 0, 1, 0, 1, 0, 1, 0, 1, 1, 0,\n",
       "       0, 1, 0, 1, 0, 1, 1, 0, 1, 0, 0, 0, 1, 1, 0, 1, 0, 1, 1, 0, 1, 1,\n",
       "       1, 1, 0, 0, 1, 0, 1, 0, 0, 1, 1, 0, 0, 1, 1, 0, 1, 1, 1, 1, 1, 1,\n",
       "       1, 0, 1, 0, 1, 0, 1, 1, 0, 0, 1, 1, 1, 0, 1, 0, 1, 1, 1, 0, 1, 0,\n",
       "       1, 0, 1, 0, 0, 1, 1, 1, 1, 1, 0, 1, 0, 0, 0, 0, 0, 1, 1, 1, 0, 0,\n",
       "       0, 1, 1, 1, 0, 1, 0, 0, 1, 0, 1, 1, 1, 0, 0, 1, 1, 1, 0, 1, 1, 1,\n",
       "       1, 1, 1, 0, 1, 1, 1, 1, 1, 1, 1, 0, 1, 0, 1, 0, 1, 1, 0, 1, 0, 1,\n",
       "       1, 1, 1, 0, 0, 0, 1, 0, 0, 1, 1, 1, 1, 1, 0, 1, 1, 0, 0, 1, 1, 1,\n",
       "       0, 0, 1, 1, 1, 0, 1, 1, 1, 1, 0, 0, 0, 1, 0, 0, 0, 0, 1, 0, 0, 0,\n",
       "       1, 1, 1, 1, 1, 1, 1, 1, 1, 1, 1, 0, 1, 1, 0, 1, 0, 1, 0, 1, 0, 0,\n",
       "       1, 1, 1, 1, 0, 0, 0, 1])"
      ]
     },
     "execution_count": 46,
     "metadata": {},
     "output_type": "execute_result"
    }
   ],
   "source": [
    "pred_250"
   ]
  },
  {
   "cell_type": "code",
   "execution_count": 47,
   "metadata": {},
   "outputs": [
    {
     "data": {
      "text/plain": [
       "array([1, 1, 1, 1, 1, 1, 0, 0, 1, 1, 1, 1, 0, 1, 0, 0, 1, 1, 0, 1, 1, 1,\n",
       "       0, 0, 1, 0, 0, 1, 0, 0, 0, 1, 1, 1, 1, 1, 1, 1, 1, 0, 1, 1, 0, 1,\n",
       "       1, 0, 1, 1, 0, 0, 0, 1, 0, 0, 1, 1, 1, 1, 0, 1, 1, 0, 1, 0, 0, 0,\n",
       "       1, 0, 1, 1, 1, 0, 0, 0, 1, 0, 0, 1, 1, 1, 0, 0, 1, 0, 1, 1, 1, 1,\n",
       "       1, 0, 0, 1, 1, 1, 1, 0, 1, 1, 0, 1, 0, 0, 1, 1, 0, 0, 1, 1, 0, 0,\n",
       "       0, 1, 0, 1, 1, 0, 0, 0, 0, 1, 0, 1, 1, 1, 1, 1, 1, 1, 1, 0, 0, 0,\n",
       "       0, 0, 1, 1, 1, 0, 1, 1, 0, 1, 1, 0, 1, 0, 1, 1, 1, 1, 1, 1, 0, 1,\n",
       "       1, 1, 0, 0, 1, 1, 1, 0, 1, 0, 1, 1, 1, 0, 1, 0, 0, 0, 1, 1, 0, 0,\n",
       "       0, 1, 0, 1, 0, 1, 0, 1, 0, 0, 1, 1, 1, 1, 1, 0, 1, 1, 0, 1, 1, 1,\n",
       "       0, 0, 1, 0, 1, 1, 0, 1, 1, 1, 1, 0, 0, 0, 0, 1, 1, 1, 0, 1, 0, 1,\n",
       "       1, 0, 0, 1, 1, 1, 1, 1, 0, 0, 0, 1, 0, 0, 0, 0, 1, 1, 0, 0, 0, 1,\n",
       "       0, 1, 0, 1, 0, 1, 0, 1])"
      ]
     },
     "execution_count": 47,
     "metadata": {},
     "output_type": "execute_result"
    }
   ],
   "source": [
    "pred_500"
   ]
  },
  {
   "cell_type": "code",
   "execution_count": 48,
   "metadata": {},
   "outputs": [],
   "source": [
    "pickle.dump(lgbm, open('lgb3.pkl', 'wb'))\n",
    "pickle.dump(catm, open('cat3.pkl', 'wb'))"
   ]
  }
 ],
 "metadata": {
  "kernelspec": {
   "display_name": "Python 3",
   "language": "python",
   "name": "python3"
  },
  "language_info": {
   "codemirror_mode": {
    "name": "ipython",
    "version": 3
   },
   "file_extension": ".py",
   "mimetype": "text/x-python",
   "name": "python",
   "nbconvert_exporter": "python",
   "pygments_lexer": "ipython3",
   "version": "3.8.0"
  }
 },
 "nbformat": 4,
 "nbformat_minor": 4
}
